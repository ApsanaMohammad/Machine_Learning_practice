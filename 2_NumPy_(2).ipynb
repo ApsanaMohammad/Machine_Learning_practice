{
  "cells": [
    {
      "cell_type": "markdown",
      "metadata": {
        "id": "view-in-github",
        "colab_type": "text"
      },
      "source": [
        "<a href=\"https://colab.research.google.com/github/ApsanaMohammad/Machine_Learning_practice/blob/ml/2_NumPy_(2).ipynb\" target=\"_parent\"><img src=\"https://colab.research.google.com/assets/colab-badge.svg\" alt=\"Open In Colab\"/></a>"
      ]
    },
    {
      "cell_type": "markdown",
      "metadata": {
        "id": "VHwjBXUMqVzL"
      },
      "source": [
        "<h1 style = \"color:Red\" >Working with NumPy</h1>\n"
      ]
    },
    {
      "cell_type": "markdown",
      "metadata": {
        "id": "fgftMNPCqVzO"
      },
      "source": [
        "<h2 style = \"color:Green\"> Outcomes </h2>\n",
        "\n",
        "#### At the end of this chapter, you will be able to\n",
        "* Define NumPy data types\n",
        "* Create and work with NumPy Arrays\n",
        "* Understand the applications of NumpPy"
      ]
    },
    {
      "cell_type": "markdown",
      "metadata": {
        "id": "4KWSnmycqVzP"
      },
      "source": [
        "<h2 style = \"color:Green\">What is Numpy?</h2>\n",
        "\n",
        "* A Python package for scientific computations\n",
        "\n",
        "* NumPy = ***Numerical Python***\n",
        "\n",
        "* Numpy Library = Multi-dimensional array objects & Functions for processing it.\n",
        "\n",
        "* Multi-dimensional object --> ___ndarray___ object\n",
        "\n",
        "* Variaous operations supported: Arithmetic, Logical, Shape manipulation, Sort, DFT, Statistics, Random simulation etc.\n",
        "\n",
        "* Importing NumPy: ___import numpy as np___"
      ]
    },
    {
      "cell_type": "code",
      "execution_count": null,
      "metadata": {
        "id": "n8rOQLDgqVzP"
      },
      "outputs": [],
      "source": [
        "# import numpy\n",
        "import numpy as np"
      ]
    },
    {
      "cell_type": "markdown",
      "metadata": {
        "id": "BvjVrX5aqVzQ"
      },
      "source": [
        "<h2 style = \"color:Green\"> Creating and Accessing ndarray object</h2>\n",
        "    \n",
        "* ndarray: Collection of items of the same type\n",
        "\n",
        "    \n",
        "* Items can be accessed using zero-based index.\n",
        "\n",
        "    \n",
        "* array() Function: ***numpy.array(object)***\n",
        "                --> Creates an ndarray from an object.\n",
        "                --> object: Any array or sequence.\n",
        "               "
      ]
    },
    {
      "cell_type": "markdown",
      "metadata": {
        "id": "hteKUmXuqVzQ"
      },
      "source": [
        "<h3 style = \"color:Blue\">One Dimensional Array (Vector):</h3>"
      ]
    },
    {
      "cell_type": "code",
      "execution_count": null,
      "metadata": {
        "id": "kR-27kDnqVzR",
        "colab": {
          "base_uri": "https://localhost:8080/"
        },
        "outputId": "a781a8e1-1dd9-49ba-97d8-ac0600be781d"
      },
      "outputs": [
        {
          "output_type": "stream",
          "name": "stdout",
          "text": [
            "<class 'list'>\n",
            "[1, 2, 3, 4, 5]\n",
            "<class 'numpy.ndarray'>\n",
            "[1 2 3 4 5]\n"
          ]
        }
      ],
      "source": [
        "# Create an one dimensional ndarray object from a list, display its values and type\n",
        "l14=[1,2,3,4,5]\n",
        "print(type(l14))\n",
        "print(l14)\n",
        "\n",
        "app1=np.array(l14)\n",
        "print(type(app1))\n",
        "print(app1)"
      ]
    },
    {
      "cell_type": "code",
      "execution_count": null,
      "metadata": {
        "id": "gkN58ABdqVzR",
        "colab": {
          "base_uri": "https://localhost:8080/"
        },
        "outputId": "2b2f9be4-8df7-4376-ebc2-f8611d2655ab"
      },
      "outputs": [
        {
          "output_type": "stream",
          "name": "stdout",
          "text": [
            "<class 'tuple'>\n",
            "(5, 6, 7, 8, 9, 10)\n",
            "<class 'numpy.ndarray'>\n",
            "[ 5  6  7  8  9 10]\n"
          ]
        }
      ],
      "source": [
        "# Create an one dimensional ndarray object from a tuple, display its values and type\n",
        "tup1=(5,6,7,8,9,10)\n",
        "print(type(tup1))\n",
        "print(tup1)\n",
        "\n",
        "app2=np.array(tup1)\n",
        "print(type(app2))\n",
        "print(app2)"
      ]
    },
    {
      "cell_type": "code",
      "source": [
        "res1=range(11,16)\n",
        "\n",
        "app3=np.array(res1)\n",
        "print(type(app3))\n",
        "print(app3)\n"
      ],
      "metadata": {
        "colab": {
          "base_uri": "https://localhost:8080/"
        },
        "id": "kok-V7RevO8Y",
        "outputId": "dc0b6724-d9fd-4943-895f-696900cd6803"
      },
      "execution_count": null,
      "outputs": [
        {
          "output_type": "stream",
          "name": "stdout",
          "text": [
            "<class 'numpy.ndarray'>\n",
            "[11 12 13 14 15]\n"
          ]
        }
      ]
    },
    {
      "cell_type": "markdown",
      "metadata": {
        "id": "IcwS-2ORqVzR"
      },
      "source": [
        "<h4 style = \"color:Brown\">Indexing & Slicing:</h4>\n",
        "\n",
        "![oneDim.png](attachment:oneDim.png)"
      ]
    },
    {
      "cell_type": "code",
      "execution_count": null,
      "metadata": {
        "id": "QArqyhdPqVzR",
        "colab": {
          "base_uri": "https://localhost:8080/"
        },
        "outputId": "79249fe2-bf1f-412c-a332-2b7b1e5b0bed"
      },
      "outputs": [
        {
          "output_type": "stream",
          "name": "stdout",
          "text": [
            "[1 2 3 4 5]\n",
            "1\n",
            "[ 1  2  3 18  5]\n"
          ]
        }
      ],
      "source": [
        "# Create above one dimensional ndarray object and access its elements individually. And also slice some of its elements.\n",
        "aap1=np.array([1,2,3,4,5])\n",
        "print(aap1)\n",
        "\n",
        "#indexing\n",
        "print(aap1[0])\n",
        "aap1[3]=aap1[3]+14\n",
        "print(aap1)"
      ]
    },
    {
      "cell_type": "markdown",
      "metadata": {
        "id": "_Iy4DftmqVzS"
      },
      "source": [
        "<h3 style = \"color:Blue\">Two-Dimensional Arrays(Matrices)</h3>\n",
        "\n",
        "* Each element  is itself 1D array\n",
        "\n",
        "\n",
        "* arr2 = numpy.array([[row1], [row2], ...., [rowM]])\n",
        "\n",
        "\n",
        "* Accessing an element: arr2[row_index, column_index]"
      ]
    },
    {
      "cell_type": "code",
      "execution_count": null,
      "metadata": {
        "id": "fLlnboiKqVzS",
        "colab": {
          "base_uri": "https://localhost:8080/"
        },
        "outputId": "1dcfbc70-05de-4e4b-8f3e-e8b2905e8742"
      },
      "outputs": [
        {
          "output_type": "stream",
          "name": "stdout",
          "text": [
            "[[1, 1, 1], [2, 2, 2], [3, 3, 3]]\n",
            "<class 'numpy.ndarray'>\n",
            "[[1 1 1]\n",
            " [2 2 2]\n",
            " [3 3 3]]\n"
          ]
        }
      ],
      "source": [
        "# Create a two dimensional array and access their rows and columns individually.\n",
        "# Access the individual elements.\n",
        "l2=[[1,1,1],[2,2,2],[3,3,3]]\n",
        "print(l2)\n",
        "\n",
        "a22=np.array(l2)\n",
        "print(type(a22))\n",
        "print(a22)"
      ]
    },
    {
      "cell_type": "code",
      "source": [
        "#Row  1\n",
        "print(a22[0,:])\n",
        "print(a22[0])\n",
        "\n",
        "#column 2\n",
        "print(a22[:,1])\n",
        "\n",
        "#submatrix\n",
        "print(a22[0:3,2:4])\n"
      ],
      "metadata": {
        "colab": {
          "base_uri": "https://localhost:8080/"
        },
        "id": "invq6K9Rw_Ao",
        "outputId": "b7694aca-77f1-45e4-90f8-a1f08d02d3b5"
      },
      "execution_count": null,
      "outputs": [
        {
          "output_type": "stream",
          "name": "stdout",
          "text": [
            "[1 1 1]\n",
            "[1 1 1]\n",
            "[1 2 3]\n",
            "[[1]\n",
            " [2]\n",
            " [3]]\n"
          ]
        }
      ]
    },
    {
      "cell_type": "markdown",
      "metadata": {
        "id": "xYjvzhHrqVzS"
      },
      "source": [
        "<h2 style = \"color:Green\">ndarray Attribtes</h2>"
      ]
    },
    {
      "cell_type": "markdown",
      "metadata": {
        "id": "SiEC4IvpqVzS"
      },
      "source": [
        "* ndarray.ndim: Number of dimensions\n",
        "\n",
        "\n",
        "* ndarry.shape: Array dimensions as a tuple.\n",
        "\n",
        "\n",
        "* ndarry.size: Total number of elements\n",
        "\n",
        "\n",
        "* ndarry.dtype: Type of the array elements.\n",
        "\n",
        "\n",
        "* ndarray.itemsize: The size of each element in bytes"
      ]
    },
    {
      "cell_type": "code",
      "execution_count": null,
      "metadata": {
        "id": "GZANjrqOqVzT",
        "colab": {
          "base_uri": "https://localhost:8080/"
        },
        "outputId": "2bf08944-e010-485a-efc5-3a750e13197e"
      },
      "outputs": [
        {
          "output_type": "stream",
          "name": "stdout",
          "text": [
            "[11 12 13 14 15]\n",
            "1\n",
            "(5,)\n",
            "5\n",
            "int64\n",
            "8\n"
          ]
        }
      ],
      "source": [
        "# Create an one dimensional ndarray object and diplay all its attribute values.\n",
        "print(app3)\n",
        "print(app3.ndim)\n",
        "print(app3.shape)\n",
        "print(app3.size)\n",
        "print(app3.dtype)\n",
        "print(app3.itemsize)"
      ]
    },
    {
      "cell_type": "code",
      "execution_count": null,
      "metadata": {
        "id": "dbVWrn7sqVzT",
        "colab": {
          "base_uri": "https://localhost:8080/"
        },
        "outputId": "0754c04c-19a1-4352-9d48-7c9423c0d18c"
      },
      "outputs": [
        {
          "output_type": "stream",
          "name": "stdout",
          "text": [
            "[[4 4 4]\n",
            " [5 5 5]]\n",
            "2\n",
            "(2, 3)\n",
            "6\n",
            "int64\n",
            "8\n"
          ]
        }
      ],
      "source": [
        "# Create a two dimensional ndarray object and diplay all its attribute values.\n",
        "arr2=np.array([[4,4,4],[5,5,5]])\n",
        "\n",
        "print(arr2)\n",
        "print(arr2.ndim)\n",
        "print(arr2.shape)\n",
        "print(arr2.size)\n",
        "print(arr2.dtype)\n",
        "print(arr2.itemsize)"
      ]
    },
    {
      "cell_type": "markdown",
      "metadata": {
        "id": "owHS_pEqqVzT"
      },
      "source": [
        "<h2 style = \"color:Green\">Other NumPy array creation functions</h2>"
      ]
    },
    {
      "cell_type": "markdown",
      "metadata": {
        "id": "mwlBE361qVzT"
      },
      "source": [
        "#### zeros(shape)\n",
        "* Returns an array of zeros with specified shape\n",
        "* Dafalut dtype is float\n",
        "\n",
        "\n",
        "\n",
        "#### ones(shape)\n",
        "* Returns an array of ones with specified shape\n",
        "* Dafalut dtype is float\n",
        "\n",
        "\n",
        "#### arange(start, stop, step, dtype)\n",
        "* Returns an ndarray object with elements decided by start, stop and step arguments.\n",
        "* Note that stop value is not including in the array.\n",
        "* Default dtype is type is determined by type of start or stop values.\n",
        "\n",
        "#### linspace(start, stop, N, dtype)\n",
        "* Returns an ndarray object with N elements in the range from start value to stop stop .\n",
        "* Note that stop value is inclusive in the array.\n",
        "* Defaul type is float64"
      ]
    },
    {
      "cell_type": "code",
      "execution_count": null,
      "metadata": {
        "id": "02UuUZ_cqVzT",
        "colab": {
          "base_uri": "https://localhost:8080/"
        },
        "outputId": "b8cebab2-71ba-496f-b065-c455001bc793"
      },
      "outputs": [
        {
          "output_type": "stream",
          "name": "stdout",
          "text": [
            "[0. 0. 0. 0.]\n",
            "[0 0 0 0]\n"
          ]
        }
      ],
      "source": [
        "# Create ndarray objects with all zeros using different dimensions and dtypes.\n",
        "\n",
        "z=np.zeros(4)\n",
        "print(z)\n",
        "\n",
        "\n",
        "z1=np.zeros(4,dtype=np.int8)\n",
        "print(z1)\n",
        "\n",
        "\n"
      ]
    },
    {
      "cell_type": "code",
      "execution_count": null,
      "metadata": {
        "id": "mB7NqnTTqVzU",
        "colab": {
          "base_uri": "https://localhost:8080/"
        },
        "outputId": "7de8d591-ff16-4324-fb88-ca194ff970f3"
      },
      "outputs": [
        {
          "output_type": "stream",
          "name": "stdout",
          "text": [
            "[1. 1. 1. 1.]\n",
            "[1 1 1 1]\n"
          ]
        }
      ],
      "source": [
        "# Create ndarray objects with all ones using different dimensions and dtypes.\n",
        "z2=np.ones(4)\n",
        "print(z2)\n",
        "\n",
        "\n",
        "z3=np.ones(4,dtype=np.int8)\n",
        "print(z3)"
      ]
    },
    {
      "cell_type": "code",
      "execution_count": null,
      "metadata": {
        "id": "djIHF_CUqVzU",
        "colab": {
          "base_uri": "https://localhost:8080/"
        },
        "outputId": "fb7b7c05-3e79-43eb-9419-fcb35135bd4f"
      },
      "outputs": [
        {
          "output_type": "stream",
          "name": "stdout",
          "text": [
            "[1 3 5 7 9]\n",
            "[1 3 5 7 9]\n"
          ]
        }
      ],
      "source": [
        "# Create one dimensional ndarray objects with various range of values and dtypes.\n",
        "z4=np.arange(1,11,2)\n",
        "print(z4)\n",
        "\n",
        "\n",
        "z5=np.arange(1,11,2,dtype=np.int8)\n",
        "print(z5)"
      ]
    },
    {
      "cell_type": "code",
      "execution_count": null,
      "metadata": {
        "id": "FIcqHNmXqVzU",
        "colab": {
          "base_uri": "https://localhost:8080/"
        },
        "outputId": "d6223559-23f5-4c0a-ebde-7e90eabb821f"
      },
      "outputs": [
        {
          "output_type": "stream",
          "name": "stdout",
          "text": [
            "[  1.      5.125   9.25   13.375  17.5    21.625  25.75   29.875  34.\n",
            "  38.125  42.25   46.375  50.5    54.625  58.75   62.875  67.     71.125\n",
            "  75.25   79.375  83.5    87.625  91.75   95.875 100.   ]\n",
            "[  1   5   9  13  17  21  25  29  34  38  42  46  50  54  58  62  67  71\n",
            "  75  79  83  87  91  95 100]\n"
          ]
        }
      ],
      "source": [
        "# Create one dimensional ndarray objects with 25 elements between 1 and 100 of different dtypes.\n",
        "z6=np.linspace(1,100,25)\n",
        "print(z6)\n",
        "\n",
        "z7=np.linspace(1,100,25,dtype=np.int8)\n",
        "print(z7)"
      ]
    },
    {
      "cell_type": "markdown",
      "metadata": {
        "id": "rZyIqPXVqVzU"
      },
      "source": [
        "<h3 style = \"color:green\">Reshaping using reshape(shape) method</h3>"
      ]
    },
    {
      "cell_type": "code",
      "execution_count": null,
      "metadata": {
        "id": "MNwmiB0EqVzU",
        "colab": {
          "base_uri": "https://localhost:8080/"
        },
        "outputId": "b50fc157-8dd8-41fe-d517-065f229866e0"
      },
      "outputs": [
        {
          "output_type": "stream",
          "name": "stdout",
          "text": [
            "[[  1   5   9  13  17]\n",
            " [ 21  25  29  34  38]\n",
            " [ 42  46  50  54  58]\n",
            " [ 62  67  71  75  79]\n",
            " [ 83  87  91  95 100]]\n"
          ]
        }
      ],
      "source": [
        "# Reshape any of the above ndarray object using reshape method\n",
        "z8=z7.reshape((5,-1))\n",
        "print(z8)\n"
      ]
    }
  ],
  "metadata": {
    "kernelspec": {
      "display_name": "Python 3",
      "language": "python",
      "name": "python3"
    },
    "language_info": {
      "codemirror_mode": {
        "name": "ipython",
        "version": 3
      },
      "file_extension": ".py",
      "mimetype": "text/x-python",
      "name": "python",
      "nbconvert_exporter": "python",
      "pygments_lexer": "ipython3",
      "version": "3.9.4"
    },
    "colab": {
      "provenance": [],
      "include_colab_link": true
    }
  },
  "nbformat": 4,
  "nbformat_minor": 0
}