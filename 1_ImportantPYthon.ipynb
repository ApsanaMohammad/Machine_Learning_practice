{
  "cells": [
    {
      "cell_type": "markdown",
      "metadata": {
        "id": "view-in-github",
        "colab_type": "text"
      },
      "source": [
        "<a href=\"https://colab.research.google.com/github/ApsanaMohammad/Machine_Learning_practice/blob/ml/1_ImportantPYthon.ipynb\" target=\"_parent\"><img src=\"https://colab.research.google.com/assets/colab-badge.svg\" alt=\"Open In Colab\"/></a>"
      ]
    },
    {
      "cell_type": "markdown",
      "metadata": {
        "id": "398oRA4WsVbv"
      },
      "source": [
        "# Introduction to Python - Recap"
      ]
    },
    {
      "cell_type": "markdown",
      "metadata": {
        "id": "xyD2_VT9sVbx"
      },
      "source": [
        "# Numbers: Integers, Floats and Complex Numbers\n",
        "### Integers: Whole numbers\n",
        "### Floats: Numbers with decimal point\n",
        "### Complex Numbers: Numbers with real and imaginary parts."
      ]
    },
    {
      "cell_type": "code",
      "execution_count": null,
      "metadata": {
        "id": "wF4ibTQesVby"
      },
      "outputs": [],
      "source": []
    },
    {
      "cell_type": "markdown",
      "metadata": {
        "id": "7_pkNbNjsVby"
      },
      "source": [
        "### Note:\n",
        "#### print(text) displays the the given text on the monitor.\n",
        "#### variable=input(prompt) read the text from keyboard\n",
        "#### type(object) returns the type(class) of the given object"
      ]
    },
    {
      "cell_type": "code",
      "execution_count": null,
      "metadata": {
        "id": "Ccg2065dsVbz"
      },
      "outputs": [],
      "source": [
        "# Display the type of different number objects\n"
      ]
    },
    {
      "cell_type": "markdown",
      "metadata": {
        "id": "g01TbHCasVbz"
      },
      "source": [
        "# Arithmetic Operators\n",
        "\n",
        "![ArithOpe.png](attachment:ArithOpe.png)\n"
      ]
    },
    {
      "cell_type": "code",
      "execution_count": null,
      "metadata": {
        "id": "KAwyNLvbsVbz"
      },
      "outputs": [],
      "source": [
        "# Take any two numbers and display the results ofter performing all basic arithmetic operaions on them.\n"
      ]
    },
    {
      "cell_type": "markdown",
      "metadata": {
        "id": "PaFhuSbxsVbz"
      },
      "source": [
        "# Strings\n",
        "### Surrounded in either single quotes or double quotes."
      ]
    },
    {
      "cell_type": "code",
      "execution_count": null,
      "metadata": {
        "id": "wG_8O4VXsVbz"
      },
      "outputs": [],
      "source": [
        "# Create two string objects one with double quotes and other with single quotes. Also display the type of both string objects.\n"
      ]
    },
    {
      "cell_type": "markdown",
      "metadata": {
        "id": "RuXIR4hCsVb0"
      },
      "source": [
        "### Sring Concatenation:\n",
        "#### + operator when used between stings acts as concatenation operator to join them."
      ]
    },
    {
      "cell_type": "code",
      "execution_count": null,
      "metadata": {
        "id": "zPCooJiJsVb0"
      },
      "outputs": [],
      "source": [
        "# Take first name and last name from user then display full name.\n"
      ]
    },
    {
      "cell_type": "markdown",
      "metadata": {
        "id": "NQPDMiM0sVb0"
      },
      "source": [
        "### String Indexing :\n",
        "### Index of first character is 0\n",
        "### Negative Indexing: Index of the last character is -1"
      ]
    },
    {
      "cell_type": "code",
      "execution_count": null,
      "metadata": {
        "id": "Qz-cz57esVb0"
      },
      "outputs": [],
      "source": [
        "# Create a string object with string literal \"SVEC\" and display it's characters using both positive & negative indexes.\n"
      ]
    },
    {
      "cell_type": "markdown",
      "metadata": {
        "id": "AiGdGyknsVb0"
      },
      "source": [
        "### String Slicing\n",
        "### new_string = string[start, end, step]\n",
        "#### --> Note that end index is exclusive in the range\n",
        "#### --> step is optional and its default value is 1"
      ]
    },
    {
      "cell_type": "code",
      "execution_count": null,
      "metadata": {
        "id": "6LW5pcDFsVb0"
      },
      "outputs": [],
      "source": [
        "# Extract the word love from a string \"I love my country\"\n"
      ]
    },
    {
      "cell_type": "code",
      "execution_count": null,
      "metadata": {
        "id": "2uSBRI2PsVb1"
      },
      "outputs": [],
      "source": [
        "# Extract alternate characters from the begining in a string \"SAVBECC\"\n"
      ]
    },
    {
      "cell_type": "code",
      "execution_count": null,
      "metadata": {
        "id": "lV6dDJobsVb1"
      },
      "outputs": [],
      "source": [
        "# Reverse the given string\n"
      ]
    },
    {
      "cell_type": "markdown",
      "metadata": {
        "id": "5KOzeWsssVb1"
      },
      "source": [
        "### String case-conversion methods\n",
        "#### new_string = string.lower(): lower() returns a new string with all lowercase letters in the original string\n",
        "#### new_string = string.upper(): upper() returns a new string with all uppercase letters in the original string\n",
        ""
      ]
    },
    {
      "cell_type": "code",
      "execution_count": null,
      "metadata": {
        "id": "-o53LuKBsVb1"
      },
      "outputs": [],
      "source": []
    },
    {
      "cell_type": "markdown",
      "metadata": {
        "id": "VPbmMBVJsVb1"
      },
      "source": [
        "### String splitting\n",
        "#### list_of_strings = string.split(delimiter): split() method returs a list of strings by splitting the original string upon the delimiter.\n",
        "#### --> deliiter is is optional argument and has white space(space, tab or newline) as defalt value."
      ]
    },
    {
      "cell_type": "code",
      "execution_count": null,
      "metadata": {
        "id": "YJql9Al7sVb1"
      },
      "outputs": [],
      "source": [
        "# Split the strings \"Hi how are you\", \"The#king#is#back\" and \"I--love--my--india\" with appropriate delimiters\n",
        "\n",
        "\n"
      ]
    },
    {
      "cell_type": "markdown",
      "metadata": {
        "id": "_F18hqafsVb2"
      },
      "source": [
        "### Strings joining\n",
        "#### new_string = seperator.join(list_of_strings): Returns a lnew string by joining all the string in the given list with specified separator."
      ]
    },
    {
      "cell_type": "code",
      "execution_count": null,
      "metadata": {
        "id": "mA-fcM9SsVb2"
      },
      "outputs": [],
      "source": [
        "# Join the list of strings [\"Chiru\", \"Balayya\", \"Nag\", \"Venky\"] with the delimiters \" \" and \"_\".\n",
        "\n"
      ]
    },
    {
      "cell_type": "markdown",
      "metadata": {
        "id": "UKDniaBCsVb2"
      },
      "source": [
        "# str(), int() and float() functions\n",
        "### str() function converts the given argument as a string\n",
        "### int() function converts the given argument as an integer\n",
        "### float() function converts the given argument as a float"
      ]
    },
    {
      "cell_type": "code",
      "execution_count": null,
      "metadata": {
        "id": "ZML5lttgsVb2"
      },
      "outputs": [],
      "source": [
        "# Create an integer object and reverse it without using loops\n",
        "\n",
        "\n"
      ]
    },
    {
      "cell_type": "markdown",
      "metadata": {
        "id": "MtaTQlVFsVb2"
      },
      "source": [
        "# Boolean Data Type\n",
        "### Values: True & False"
      ]
    },
    {
      "cell_type": "markdown",
      "metadata": {
        "id": "dsmaKdw_sVb2"
      },
      "source": [
        "# Comparison Operators\n",
        "### Also called Relational Operators\n",
        "### To compare two values\n",
        "### Evaluates to Boolean value\n",
        "![New%20Microsoft%20PowerPoint%20Presentation.png](attachment:New%20Microsoft%20PowerPoint%20Presentation.png)\n"
      ]
    },
    {
      "cell_type": "code",
      "execution_count": null,
      "metadata": {
        "id": "iPuFU7QGsVb2"
      },
      "outputs": [],
      "source": []
    },
    {
      "cell_type": "markdown",
      "metadata": {
        "id": "c8A94Q6lsVb3"
      },
      "source": [
        "# Logical Operators\n",
        "### To compare Boolean values or expressions.\n",
        "### To evaluate multiple comparisons at a time\n",
        "### Results in Boolean value\n",
        "![New%20Microsoft%20PowerPoint%20Presentation.png](attachment:New%20Microsoft%20PowerPoint%20Presentation.png)\n"
      ]
    },
    {
      "cell_type": "code",
      "execution_count": null,
      "metadata": {
        "id": "O8PYQYEFsVb3"
      },
      "outputs": [],
      "source": []
    },
    {
      "cell_type": "markdown",
      "metadata": {
        "id": "JfN4-IS-sVb3"
      },
      "source": [
        "# Flow Control Statements"
      ]
    },
    {
      "cell_type": "markdown",
      "metadata": {
        "id": "OCAyOjiCsVb3"
      },
      "source": [
        "## if statements\n",
        "![if.png](attachment:if.png)"
      ]
    },
    {
      "cell_type": "code",
      "execution_count": null,
      "metadata": {
        "id": "OnxoqUqDsVb3"
      },
      "outputs": [],
      "source": [
        "# Read the marks and display pass if greater than or equal to 35\n"
      ]
    },
    {
      "cell_type": "code",
      "execution_count": null,
      "metadata": {
        "id": "LJfg2Cx7sVb3"
      },
      "outputs": [],
      "source": [
        "# Read the marks and display pass or fail\n"
      ]
    },
    {
      "cell_type": "code",
      "execution_count": null,
      "metadata": {
        "id": "hOWff8z-sVb3"
      },
      "outputs": [],
      "source": [
        "# Read the marks and display Grade the studen got\n"
      ]
    },
    {
      "cell_type": "markdown",
      "metadata": {
        "id": "a5nhPV7tsVb3"
      },
      "source": [
        "## while Loop\n",
        "![while.png](attachment:while.png)"
      ]
    },
    {
      "cell_type": "code",
      "execution_count": null,
      "metadata": {
        "id": "qaP8FRh7sVb3"
      },
      "outputs": [],
      "source": [
        "# Find out sum of squares first N numbers\n"
      ]
    },
    {
      "cell_type": "markdown",
      "metadata": {
        "id": "9y7PDZECsVb4"
      },
      "source": [
        "## for Loop\n",
        "![FOR.png](attachment:FOR.png)"
      ]
    },
    {
      "cell_type": "code",
      "execution_count": null,
      "metadata": {
        "id": "fvX81-y5sVb4"
      },
      "outputs": [],
      "source": []
    },
    {
      "cell_type": "markdown",
      "metadata": {
        "id": "HOtyrRCPsVb-"
      },
      "source": [
        "## range() Function\n",
        "### Reurns a range object with sequence of numbers\n",
        "#### range(stop): Returns a range object with a sequence of numbers from 0 to stop-1.\n",
        "#### range(start, stop): Returns a range object with a sequence of numbers from start to stop-1.\n",
        "#### range(start, stop, step): Retuns a range object with numbers from start with the given step upto stop (exclusive)."
      ]
    },
    {
      "cell_type": "code",
      "execution_count": null,
      "metadata": {
        "id": "rLTQBg2-sVb-"
      },
      "outputs": [],
      "source": []
    },
    {
      "cell_type": "code",
      "execution_count": null,
      "metadata": {
        "id": "NowIS-C9sVb-"
      },
      "outputs": [],
      "source": [
        "# Display a message N times.\n"
      ]
    },
    {
      "cell_type": "code",
      "execution_count": null,
      "metadata": {
        "id": "otGLiGLksVb-"
      },
      "outputs": [],
      "source": [
        "# Sum of squares of first N numbers\n"
      ]
    },
    {
      "cell_type": "code",
      "execution_count": null,
      "metadata": {
        "id": "r4pHntTmsVb-"
      },
      "outputs": [],
      "source": [
        "# Sum of squares of the numbers from x to y\n"
      ]
    },
    {
      "cell_type": "code",
      "execution_count": null,
      "metadata": {
        "id": "FJY0rHpqsVb-"
      },
      "outputs": [],
      "source": [
        "# Display all the even numbers between x and y.\n"
      ]
    },
    {
      "cell_type": "code",
      "execution_count": null,
      "metadata": {
        "id": "URBE-i8nsVb_"
      },
      "outputs": [],
      "source": [
        "# Display all odd numbers between 0 and N without using any arithmetic/logical operation\n"
      ]
    },
    {
      "cell_type": "markdown",
      "metadata": {
        "id": "7-EY-RStsVb_"
      },
      "source": [
        "# Functions\n",
        "## Subprogram which performs a specific task\n",
        "## Types:\n",
        "### 1. Built-in Functions\n",
        "#### print(), input(), len(), int(), float(), str(), type(), range() . . . .\n",
        "### 2. User-defined Functions\n",
        "![function.png](attachment:function.png)"
      ]
    },
    {
      "cell_type": "code",
      "execution_count": null,
      "metadata": {
        "id": "zL3KzanTsVb_"
      },
      "outputs": [],
      "source": []
    },
    {
      "cell_type": "code",
      "execution_count": null,
      "metadata": {
        "id": "MmMSpEgrsVb_"
      },
      "outputs": [],
      "source": [
        "# Implement a function to display welcome message\n"
      ]
    },
    {
      "cell_type": "code",
      "execution_count": null,
      "metadata": {
        "id": "IE9qg0lssVb_"
      },
      "outputs": [],
      "source": [
        "# Implement a function to check password\n"
      ]
    },
    {
      "cell_type": "code",
      "execution_count": null,
      "metadata": {
        "id": "DWAn8lmasVb_"
      },
      "outputs": [],
      "source": [
        "# Implement a function to return the factorial of the given number\n"
      ]
    },
    {
      "cell_type": "markdown",
      "metadata": {
        "id": "VxZ1WaYAsVb_"
      },
      "source": [
        "# Lists"
      ]
    },
    {
      "cell_type": "markdown",
      "metadata": {
        "id": "iijiFZ2esVb_"
      },
      "source": [
        "## Ordered Sequence of items.\n",
        "## List is a comma separated items between opening and closing sqare brackets.\n",
        "## Individual items of a list can  be accessed using indexing.\n",
        "### List are mutable objects in python\n"
      ]
    },
    {
      "cell_type": "code",
      "execution_count": null,
      "metadata": {
        "id": "p-pMbNTGsVb_"
      },
      "outputs": [],
      "source": [
        "# Create a list object with different types of objects and show that it is mutable\n",
        "\n",
        "\n",
        "\n",
        "\n"
      ]
    },
    {
      "cell_type": "markdown",
      "metadata": {
        "id": "fp6c1AfRsVcA"
      },
      "source": [
        "## A list can have other list as its item"
      ]
    },
    {
      "cell_type": "code",
      "execution_count": null,
      "metadata": {
        "id": "4WoJkrP4sVcA"
      },
      "outputs": [],
      "source": [
        "# Create a list object with other list as one of the elements and access its elements usig indexing\n",
        "\n",
        "\n",
        "\n"
      ]
    },
    {
      "cell_type": "markdown",
      "metadata": {
        "id": "AA2sHse5sVcA"
      },
      "source": [
        "## List Slicing"
      ]
    },
    {
      "cell_type": "code",
      "execution_count": null,
      "metadata": {
        "id": "D2Oz8MFqsVcA"
      },
      "outputs": [],
      "source": []
    },
    {
      "cell_type": "markdown",
      "metadata": {
        "id": "_HtfGcIGsVcA"
      },
      "source": [
        "## Length and Concatenation of Lists"
      ]
    },
    {
      "cell_type": "code",
      "execution_count": null,
      "metadata": {
        "id": "9HoFjYp6sVcA"
      },
      "outputs": [],
      "source": []
    },
    {
      "cell_type": "markdown",
      "metadata": {
        "id": "c8obcYxQsVcA"
      },
      "source": [
        "## Replication"
      ]
    },
    {
      "cell_type": "code",
      "execution_count": null,
      "metadata": {
        "id": "bMO6WUijsVcA"
      },
      "outputs": [],
      "source": [
        "# Create a list of 100 zeros\n",
        "\n"
      ]
    },
    {
      "cell_type": "markdown",
      "metadata": {
        "id": "wWwXZcZVsVcA"
      },
      "source": [
        "## List Methods"
      ]
    },
    {
      "cell_type": "markdown",
      "metadata": {
        "id": "Qa2NQavBsVcA"
      },
      "source": [
        "### index = list.index(item)\n",
        "* Returns the index of the item in the list.\n",
        "* If the item not present python produces a ValueError"
      ]
    },
    {
      "cell_type": "code",
      "execution_count": null,
      "metadata": {
        "id": "Iu-qObodsVcB"
      },
      "outputs": [],
      "source": []
    },
    {
      "cell_type": "markdown",
      "metadata": {
        "id": "Ab4hUJuzsVcB"
      },
      "source": [
        "### list.append(item)\n",
        "* Appends the argument at the end of the list."
      ]
    },
    {
      "cell_type": "code",
      "execution_count": null,
      "metadata": {
        "id": "VAdVQU8ZsVcB"
      },
      "outputs": [],
      "source": []
    },
    {
      "cell_type": "markdown",
      "metadata": {
        "id": "sBWy7gKSsVcB"
      },
      "source": [
        "### list.insert(index, item)\n",
        "* Inserts an item at the given index in the list"
      ]
    },
    {
      "cell_type": "code",
      "execution_count": null,
      "metadata": {
        "id": "ZR0gfghnsVcB"
      },
      "outputs": [],
      "source": []
    },
    {
      "cell_type": "markdown",
      "metadata": {
        "id": "vXC9SAzksVcB"
      },
      "source": [
        "### list.remove(item)\n",
        "* Removes the first occurance of an item from the list\n",
        "* If the item does not exist in the list we will get ValueError error."
      ]
    },
    {
      "cell_type": "code",
      "execution_count": null,
      "metadata": {
        "id": "B0tKOAKBsVcB"
      },
      "outputs": [],
      "source": []
    },
    {
      "cell_type": "markdown",
      "metadata": {
        "id": "udBGXCtgsVcB"
      },
      "source": [
        "### list.sort()\n",
        "* Sorts the list in place\n",
        "\n",
        "### list.sort(reverse = True)\n",
        "* Sorts the list in the reverse order\n",
        "#### Note: Python can't sort the list that has both numbers and strings.\n"
      ]
    },
    {
      "cell_type": "code",
      "execution_count": null,
      "metadata": {
        "id": "nC4XPCx4sVcB"
      },
      "outputs": [],
      "source": []
    },
    {
      "cell_type": "markdown",
      "metadata": {
        "id": "jwlpN82zsVcB"
      },
      "source": [
        "### list.reverse()\n",
        "* Reverse the order of the list items"
      ]
    },
    {
      "cell_type": "code",
      "execution_count": null,
      "metadata": {
        "id": "6_djU8FlsVcC"
      },
      "outputs": [],
      "source": []
    },
    {
      "cell_type": "markdown",
      "metadata": {
        "id": "RlUKxsg8sVcC"
      },
      "source": [
        "### list.copy()\n",
        "* Creates a duplicate copy of the list"
      ]
    },
    {
      "cell_type": "code",
      "execution_count": null,
      "metadata": {
        "id": "vdPhrM6isVcC"
      },
      "outputs": [],
      "source": []
    },
    {
      "cell_type": "markdown",
      "metadata": {
        "id": "CQj--HdfsVcC"
      },
      "source": [
        "### count = list.count(item)\n",
        "* Return the number of occurances of given item"
      ]
    },
    {
      "cell_type": "code",
      "execution_count": null,
      "metadata": {
        "id": "IwodntZesVcC"
      },
      "outputs": [],
      "source": []
    },
    {
      "cell_type": "markdown",
      "metadata": {
        "id": "ZasDiwqosVcC"
      },
      "source": [
        "# Tuples"
      ]
    },
    {
      "cell_type": "markdown",
      "metadata": {
        "id": "hegWHRq5sVcC"
      },
      "source": [
        "### Same as Lists with the following differences\n",
        "1. Items are enclosed in parenthesis.\n",
        "2. Tuples are immutable objects"
      ]
    },
    {
      "cell_type": "code",
      "execution_count": null,
      "metadata": {
        "id": "rXzAlSZWsVcC"
      },
      "outputs": [],
      "source": [
        "# Create a tuple object and show that it is immutable\n"
      ]
    },
    {
      "cell_type": "markdown",
      "metadata": {
        "id": "AubDpLajsVcC"
      },
      "source": [
        "### Methods\n",
        "#### count = tuple.count(item)\n",
        "#### index = tuple.index(item)"
      ]
    },
    {
      "cell_type": "code",
      "execution_count": null,
      "metadata": {
        "id": "6DQxgmF4sVcC"
      },
      "outputs": [],
      "source": []
    },
    {
      "cell_type": "markdown",
      "metadata": {
        "id": "WhQXSV6qsVcD"
      },
      "source": [
        "# Dictionary"
      ]
    },
    {
      "cell_type": "markdown",
      "metadata": {
        "id": "CqKaBhSgsVcD"
      },
      "source": [
        "* Mutable collection of key - value pairs enclosed in braces, { }.\n",
        "* {key1:value1, key2:value2, ...}\n",
        "* Values can be accessed though their keys\n",
        "* Dictionaries are unordered --> Order of the keys does not matter to decide whether two dictionaries are same\n",
        "\n",
        "\n"
      ]
    },
    {
      "cell_type": "code",
      "execution_count": null,
      "metadata": {
        "id": "ceec4IQHsVcD"
      },
      "outputs": [],
      "source": []
    },
    {
      "cell_type": "markdown",
      "metadata": {
        "id": "HavkDDYcsVcD"
      },
      "source": [
        "### Methods"
      ]
    },
    {
      "cell_type": "markdown",
      "metadata": {
        "id": "D_vPNOcpsVcD"
      },
      "source": [
        "* keys( ): Returns a dict_keys object with all keys in the dictionary\n",
        "* values( ): Returns a dict_values object with all values in the dictionary\n",
        "* items( ): Returns a dict_items object with all key-value pairs in the dictionay"
      ]
    },
    {
      "cell_type": "code",
      "execution_count": null,
      "metadata": {
        "id": "yA1RHEn1sVcD"
      },
      "outputs": [],
      "source": []
    }
  ],
  "metadata": {
    "kernelspec": {
      "display_name": "Python 3",
      "language": "python",
      "name": "python3"
    },
    "language_info": {
      "codemirror_mode": {
        "name": "ipython",
        "version": 3
      },
      "file_extension": ".py",
      "mimetype": "text/x-python",
      "name": "python",
      "nbconvert_exporter": "python",
      "pygments_lexer": "ipython3",
      "version": "3.9.4"
    },
    "colab": {
      "provenance": [],
      "include_colab_link": true
    }
  },
  "nbformat": 4,
  "nbformat_minor": 0
}